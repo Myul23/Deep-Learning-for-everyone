{
 "cells": [
  {
   "cell_type": "code",
   "execution_count": null,
   "source": [
    "# 데이터 확인\r\n",
    "# 초음파 광물 예측\r\n",
    "\r\n",
    "df = pd.read_csv(\"C:/Github Projects/DL-for-All/0. data/sonar.csv\", header=None)\r\n",
    "print(df.info())\r\n"
   ],
   "outputs": [],
   "metadata": {}
  }
 ],
 "metadata": {
  "orig_nbformat": 4,
  "language_info": {
   "name": "python"
  }
 },
 "nbformat": 4,
 "nbformat_minor": 2
}