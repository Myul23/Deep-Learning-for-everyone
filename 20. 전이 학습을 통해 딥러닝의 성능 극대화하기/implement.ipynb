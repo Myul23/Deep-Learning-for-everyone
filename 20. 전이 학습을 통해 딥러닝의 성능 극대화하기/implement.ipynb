{
 "cells": [
  {
   "cell_type": "markdown",
   "source": [
    "전이학습, transfer learning\r\n",
    "\r\n",
    "- 이미 학습한 정보를 가져와 내 프로젝트에 활용하는 것\r\n",
    "- 방대한 자료를 통해 미리 학습한 가중치 값을 가져와 내 프로젝트에 사용하는 방법"
   ],
   "metadata": {}
  },
  {
   "cell_type": "markdown",
   "source": [
    "Deep-learning을 이용한 project\r\n",
    "\r\n",
    "*어떤 data를 가지고 있는지*<br />\r\n",
    "*어떤 목적을 가지고 있는지*\r\n",
    "\r\n",
    "를 잘 살펴보는 것부터가 시작."
   ],
   "metadata": {}
  },
  {
   "cell_type": "markdown",
   "source": [
    "<pre>\r\n",
    "train_datagen = ImageDataGenerator(\r\n",
    "  rescale=1./255, horizontal_flip=True, width_shift_range=0.1, height_shift_range=0.1,\r\n",
    "  rotation_range=5, shear_range=0.7, zoom_range=1.2, vertical_flip=True,\r\n",
    "  fill_mode=\"nearest\")\r\n",
    "</pre>\r\n",
    "\r\n",
    "- rescale: pixel 범위 바꾸기 (배수로 추정됨)\r\n",
    "- horizontal_flip, vertical_flip: 수평, 수직 뒤집기\r\n",
    "- zoom_range: 정해진 범위 안에서 축소 또는 확대\r\n",
    "- width_shift, height_shift: 정해진 범위 안에서 그림을 수평 또는 수직으로 랜덤하게 평행 이동\r\n",
    "- rotation_range: 정해진 각도만큼 회전\r\n",
    "- shear_range: 좌표 하나를 고정시키고 다른 몇 개의 좌표를 이동시키는 변환\r\n",
    "- fill_mode: 변환시킬 때 생기는 빈 공간을 어떻게 채울지 결정하는 옵션\r\n",
    "\r\n",
    "<br />\r\n",
    "\r\n",
    "모든 옵션을 사용하기보다 주어진 데이터의 특징을 파악해 적당히 사용하는 것이 좋다\r\n",
    "- 모든 옵션을 이용하면 학습 시간이 너무 늘어남.\r\n",
    "\r\n",
    "<br />\r\n",
    "\r\n",
    "test data는 실제와 유사해야 하므로 대체로 데이터 증강을 하지 않는 것이 좋다."
   ],
   "metadata": {}
  },
  {
   "cell_type": "code",
   "execution_count": 22,
   "source": [
    "import numpy as np\r\n",
    "import tensorflow as tf\r\n",
    "\r\n",
    "# preprocessing\r\n",
    "from tensorflow.keras.preprocessing.image import ImageDataGenerator\r\n",
    "\r\n",
    "# model\r\n",
    "from tensorflow.keras.models import Sequential\r\n",
    "from tensorflow.keras.applications import VGG16\r\n",
    "from tensorflow.keras.layers import Conv2D, MaxPooling2D, Flatten, Dense, Activation, Dropout\r\n",
    "\r\n",
    "from tensorflow.keras import initializers, regularizers, optimizers, metrics\r\n",
    "\r\n",
    "# visualization\r\n",
    "import matplotlib.pyplot as plt"
   ],
   "outputs": [],
   "metadata": {}
  },
  {
   "cell_type": "markdown",
   "source": [
    "### data"
   ],
   "metadata": {}
  },
  {
   "cell_type": "code",
   "execution_count": 4,
   "source": [
    "train_datagen = ImageDataGenerator(\r\n",
    "    rescale=1./255, horizontal_flip=True,\r\n",
    "    width_shift_range=0.1, height_shift_range=0.1, fill_mode=\"nearest\")"
   ],
   "outputs": [],
   "metadata": {}
  },
  {
   "cell_type": "code",
   "execution_count": 5,
   "source": [
    "train_generator = train_datagen.flow_from_directory(\r\n",
    "  \"train\", target_size=(150, 150), batch_size=5, class_mode=\"binary\")"
   ],
   "outputs": [
    {
     "output_type": "stream",
     "name": "stdout",
     "text": [
      "Found 160 images belonging to 2 classes.\n"
     ]
    }
   ],
   "metadata": {}
  },
  {
   "cell_type": "code",
   "execution_count": 6,
   "source": [
    "test_datagen = ImageDataGenerator(rescale=1./255)\r\n",
    "test_generator = test_datagen.flow_from_directory(\r\n",
    "    \"test\", target_size=(150, 150), batch_size=5, class_mode=\"binary\")"
   ],
   "outputs": [
    {
     "output_type": "stream",
     "name": "stdout",
     "text": [
      "Found 120 images belonging to 2 classes.\n"
     ]
    }
   ],
   "metadata": {}
  },
  {
   "cell_type": "markdown",
   "source": [
    "## 데이터 증강을 통해 적은 데이터셋 학습"
   ],
   "metadata": {}
  },
  {
   "cell_type": "code",
   "execution_count": 3,
   "source": [
    "np.random.seed(3)\r\n",
    "tf.random.set_seed(3)"
   ],
   "outputs": [],
   "metadata": {}
  },
  {
   "cell_type": "markdown",
   "source": [
    "### model"
   ],
   "metadata": {}
  },
  {
   "cell_type": "code",
   "execution_count": 7,
   "source": [
    "model = Sequential()\r\n",
    "model.add(Conv2D(32, kernel_size=3, input_shape=(150, 150, 3)))\r\n",
    "model.add(Activation(\"relu\"))\r\n",
    "model.add(MaxPooling2D(pool_size=2))\r\n",
    "\r\n",
    "model.add(Conv2D(32, kernel_size=3))\r\n",
    "model.add(Activation(\"relu\"))\r\n",
    "model.add(MaxPooling2D(pool_size=2))\r\n",
    "\r\n",
    "model.add(Conv2D(64, kernel_size=3))\r\n",
    "model.add(Activation(\"relu\"))\r\n",
    "model.add(MaxPooling2D(pool_size=2))\r\n",
    "\r\n",
    "model.add(Flatten())\r\n",
    "\r\n",
    "model.add(Dense(64))\r\n",
    "model.add(Activation(\"relu\"))\r\n",
    "model.add(Dropout(0.5))\r\n",
    "\r\n",
    "model.add(Dense(2))\r\n",
    "model.add(Activation(\"softmax\"))"
   ],
   "outputs": [],
   "metadata": {}
  },
  {
   "cell_type": "code",
   "execution_count": 8,
   "source": [
    "model.summary()"
   ],
   "outputs": [
    {
     "output_type": "stream",
     "name": "stdout",
     "text": [
      "Model: \"sequential\"\n",
      "_________________________________________________________________\n",
      "Layer (type)                 Output Shape              Param #   \n",
      "=================================================================\n",
      "conv2d (Conv2D)              (None, 148, 148, 32)      896       \n",
      "_________________________________________________________________\n",
      "activation (Activation)      (None, 148, 148, 32)      0         \n",
      "_________________________________________________________________\n",
      "max_pooling2d (MaxPooling2D) (None, 74, 74, 32)        0         \n",
      "_________________________________________________________________\n",
      "conv2d_1 (Conv2D)            (None, 72, 72, 32)        9248      \n",
      "_________________________________________________________________\n",
      "activation_1 (Activation)    (None, 72, 72, 32)        0         \n",
      "_________________________________________________________________\n",
      "max_pooling2d_1 (MaxPooling2 (None, 36, 36, 32)        0         \n",
      "_________________________________________________________________\n",
      "conv2d_2 (Conv2D)            (None, 34, 34, 64)        18496     \n",
      "_________________________________________________________________\n",
      "activation_2 (Activation)    (None, 34, 34, 64)        0         \n",
      "_________________________________________________________________\n",
      "max_pooling2d_2 (MaxPooling2 (None, 17, 17, 64)        0         \n",
      "_________________________________________________________________\n",
      "flatten (Flatten)            (None, 18496)             0         \n",
      "_________________________________________________________________\n",
      "dense (Dense)                (None, 64)                1183808   \n",
      "_________________________________________________________________\n",
      "activation_3 (Activation)    (None, 64)                0         \n",
      "_________________________________________________________________\n",
      "dropout (Dropout)            (None, 64)                0         \n",
      "_________________________________________________________________\n",
      "dense_1 (Dense)              (None, 2)                 130       \n",
      "_________________________________________________________________\n",
      "activation_4 (Activation)    (None, 2)                 0         \n",
      "=================================================================\n",
      "Total params: 1,212,578\n",
      "Trainable params: 1,212,578\n",
      "Non-trainable params: 0\n",
      "_________________________________________________________________\n"
     ]
    }
   ],
   "metadata": {}
  },
  {
   "cell_type": "code",
   "execution_count": 9,
   "source": [
    "model.compile(\r\n",
    "    loss=\"sparse_categorical_crossentropy\",\r\n",
    "    optimizer=optimizers.Adam(learning_rate=0.0002),\r\n",
    "    metrics=[\"accuracy\"])"
   ],
   "outputs": [],
   "metadata": {}
  },
  {
   "cell_type": "markdown",
   "source": [
    "- step_per_epoch: 한 번 epoch를 볼 때 몇 번 볼 것인가.\r\n",
    "- validation_steps: 한 번 epoch 이후에 validation data set를 고려할 때 몇 번 볼 것인가."
   ],
   "metadata": {}
  },
  {
   "cell_type": "code",
   "execution_count": 19,
   "source": [
    "history = model.fit_generator(\r\n",
    "    train_generator, validation_data=test_generator, validation_steps=10,\r\n",
    "    epochs=40, steps_per_epoch=30)"
   ],
   "outputs": [
    {
     "output_type": "stream",
     "name": "stdout",
     "text": [
      "Epoch 1/40\n",
      "30/30 [==============================] - 3s 106ms/step - loss: 0.5455 - accuracy: 0.7267 - val_loss: 0.4632 - val_accuracy: 0.8200\n",
      "Epoch 2/40\n",
      "30/30 [==============================] - 3s 99ms/step - loss: 0.4244 - accuracy: 0.8600 - val_loss: 0.4378 - val_accuracy: 0.8000\n",
      "Epoch 3/40\n",
      "30/30 [==============================] - 3s 99ms/step - loss: 0.3951 - accuracy: 0.8467 - val_loss: 0.2862 - val_accuracy: 0.9000\n",
      "Epoch 4/40\n",
      "30/30 [==============================] - 3s 104ms/step - loss: 0.3384 - accuracy: 0.8733 - val_loss: 0.2133 - val_accuracy: 0.9200\n",
      "Epoch 5/40\n",
      "30/30 [==============================] - 4s 136ms/step - loss: 0.2819 - accuracy: 0.9067 - val_loss: 0.2666 - val_accuracy: 0.8600\n",
      "Epoch 6/40\n",
      "30/30 [==============================] - 4s 138ms/step - loss: 0.2685 - accuracy: 0.8667 - val_loss: 0.2356 - val_accuracy: 0.9000\n",
      "Epoch 7/40\n",
      "30/30 [==============================] - 3s 99ms/step - loss: 0.2692 - accuracy: 0.9000 - val_loss: 0.2158 - val_accuracy: 0.9400\n",
      "Epoch 8/40\n",
      "30/30 [==============================] - 3s 103ms/step - loss: 0.2990 - accuracy: 0.8800 - val_loss: 0.1556 - val_accuracy: 0.9600\n",
      "Epoch 9/40\n",
      "30/30 [==============================] - 3s 104ms/step - loss: 0.2076 - accuracy: 0.9333 - val_loss: 0.0955 - val_accuracy: 0.9800\n",
      "Epoch 10/40\n",
      "30/30 [==============================] - 3s 112ms/step - loss: 0.2217 - accuracy: 0.9200 - val_loss: 0.1704 - val_accuracy: 0.9400\n",
      "Epoch 11/40\n",
      "30/30 [==============================] - 3s 102ms/step - loss: 0.1820 - accuracy: 0.9267 - val_loss: 0.1819 - val_accuracy: 0.9200\n",
      "Epoch 12/40\n",
      "30/30 [==============================] - 3s 101ms/step - loss: 0.1751 - accuracy: 0.9400 - val_loss: 0.2556 - val_accuracy: 0.8800\n",
      "Epoch 13/40\n",
      "30/30 [==============================] - 3s 105ms/step - loss: 0.1738 - accuracy: 0.9467 - val_loss: 0.1161 - val_accuracy: 0.9600\n",
      "Epoch 14/40\n",
      "30/30 [==============================] - 3s 99ms/step - loss: 0.1732 - accuracy: 0.9267 - val_loss: 0.0688 - val_accuracy: 1.0000\n",
      "Epoch 15/40\n",
      "30/30 [==============================] - 3s 97ms/step - loss: 0.1667 - accuracy: 0.9533 - val_loss: 0.1319 - val_accuracy: 0.9200\n",
      "Epoch 16/40\n",
      "30/30 [==============================] - 3s 87ms/step - loss: 0.1525 - accuracy: 0.9467 - val_loss: 0.0956 - val_accuracy: 0.9600\n",
      "Epoch 17/40\n",
      "30/30 [==============================] - 3s 96ms/step - loss: 0.2075 - accuracy: 0.8800 - val_loss: 0.3280 - val_accuracy: 0.8600\n",
      "Epoch 18/40\n",
      "30/30 [==============================] - 3s 95ms/step - loss: 0.2149 - accuracy: 0.9067 - val_loss: 0.1059 - val_accuracy: 0.9600\n",
      "Epoch 19/40\n",
      "30/30 [==============================] - 3s 94ms/step - loss: 0.1599 - accuracy: 0.9467 - val_loss: 0.0991 - val_accuracy: 0.9800\n",
      "Epoch 20/40\n",
      "30/30 [==============================] - 3s 92ms/step - loss: 0.1142 - accuracy: 0.9600 - val_loss: 0.1265 - val_accuracy: 0.9400\n",
      "Epoch 21/40\n",
      "30/30 [==============================] - 3s 89ms/step - loss: 0.1304 - accuracy: 0.9533 - val_loss: 0.1230 - val_accuracy: 0.9600\n",
      "Epoch 22/40\n",
      "30/30 [==============================] - 3s 107ms/step - loss: 0.1549 - accuracy: 0.9400 - val_loss: 0.0980 - val_accuracy: 0.9800\n",
      "Epoch 23/40\n",
      "30/30 [==============================] - 4s 120ms/step - loss: 0.1368 - accuracy: 0.9667 - val_loss: 0.1259 - val_accuracy: 0.9600\n",
      "Epoch 24/40\n",
      "30/30 [==============================] - 4s 117ms/step - loss: 0.1134 - accuracy: 0.9733 - val_loss: 0.0826 - val_accuracy: 0.9800\n",
      "Epoch 25/40\n",
      "30/30 [==============================] - 3s 106ms/step - loss: 0.1217 - accuracy: 0.9600 - val_loss: 0.1227 - val_accuracy: 0.9400\n",
      "Epoch 26/40\n",
      "30/30 [==============================] - 3s 112ms/step - loss: 0.1477 - accuracy: 0.9533 - val_loss: 0.0607 - val_accuracy: 0.9800\n",
      "Epoch 27/40\n",
      "30/30 [==============================] - 3s 110ms/step - loss: 0.0898 - accuracy: 0.9733 - val_loss: 0.0737 - val_accuracy: 0.9800\n",
      "Epoch 28/40\n",
      "30/30 [==============================] - 3s 103ms/step - loss: 0.1097 - accuracy: 0.9667 - val_loss: 0.0775 - val_accuracy: 0.9600\n",
      "Epoch 29/40\n",
      "30/30 [==============================] - 3s 104ms/step - loss: 0.0949 - accuracy: 0.9733 - val_loss: 0.0593 - val_accuracy: 0.9800\n",
      "Epoch 30/40\n",
      "30/30 [==============================] - 3s 102ms/step - loss: 0.1150 - accuracy: 0.9533 - val_loss: 0.1476 - val_accuracy: 0.9200\n",
      "Epoch 31/40\n",
      "30/30 [==============================] - 3s 96ms/step - loss: 0.1120 - accuracy: 0.9600 - val_loss: 0.0552 - val_accuracy: 0.9600\n",
      "Epoch 32/40\n",
      "30/30 [==============================] - 3s 94ms/step - loss: 0.0709 - accuracy: 0.9800 - val_loss: 0.0352 - val_accuracy: 1.0000\n",
      "Epoch 33/40\n",
      "30/30 [==============================] - 3s 101ms/step - loss: 0.1172 - accuracy: 0.9733 - val_loss: 0.0257 - val_accuracy: 1.0000\n",
      "Epoch 34/40\n",
      "30/30 [==============================] - 3s 115ms/step - loss: 0.1361 - accuracy: 0.9333 - val_loss: 0.0246 - val_accuracy: 1.0000\n",
      "Epoch 35/40\n",
      "30/30 [==============================] - 3s 110ms/step - loss: 0.1001 - accuracy: 0.9533 - val_loss: 0.0560 - val_accuracy: 0.9800\n",
      "Epoch 36/40\n",
      "30/30 [==============================] - 3s 111ms/step - loss: 0.0690 - accuracy: 0.9867 - val_loss: 0.0356 - val_accuracy: 0.9800\n",
      "Epoch 37/40\n",
      "30/30 [==============================] - 3s 101ms/step - loss: 0.0950 - accuracy: 0.9733 - val_loss: 0.0168 - val_accuracy: 1.0000\n",
      "Epoch 38/40\n",
      "30/30 [==============================] - 3s 98ms/step - loss: 0.0783 - accuracy: 0.9733 - val_loss: 0.0505 - val_accuracy: 0.9800\n",
      "Epoch 39/40\n",
      "30/30 [==============================] - 3s 97ms/step - loss: 0.0767 - accuracy: 0.9867 - val_loss: 0.0548 - val_accuracy: 0.9800\n",
      "Epoch 40/40\n",
      "30/30 [==============================] - 3s 98ms/step - loss: 0.1209 - accuracy: 0.9667 - val_loss: 0.0342 - val_accuracy: 1.0000\n"
     ]
    }
   ],
   "metadata": {}
  },
  {
   "cell_type": "markdown",
   "source": [
    "### result"
   ],
   "metadata": {}
  },
  {
   "cell_type": "code",
   "execution_count": 20,
   "source": [
    "acc = history.history[\"accuracy\"]\r\n",
    "val_acc = history.history[\"val_accuracy\"]\r\n",
    "\r\n",
    "y_loss = history.history[\"loss\"]\r\n",
    "y_vloss = history.history[\"val_loss\"]"
   ],
   "outputs": [],
   "metadata": {}
  },
  {
   "cell_type": "code",
   "execution_count": 21,
   "source": [
    "x_len = np.arange(len(y_vloss))\r\n",
    "plt.plot(x_len, acc, marker=\".\", c=\"red\", label=\"Train accucary\")\r\n",
    "plt.plot(x_len, val_acc, marker=\".\", c=\"lightcoral\", label=\"Validation accuracy\")\r\n",
    "plt.plot(x_len, y_loss, marker=\".\", c=\"blue\", label=\"Train loss\")\r\n",
    "plt.plot(x_len, y_vloss, marker=\".\", c=\"cornflowerblue\", label=\"Validation loss\")\r\n",
    "\r\n",
    "plt.grid()\r\n",
    "plt.legend(loc=\"best\")\r\n",
    "plt.xlabel(\"epoch\")\r\n",
    "plt.ylabel(\"loss/acc\")\r\n",
    "plt.show()"
   ],
   "outputs": [
    {
     "output_type": "display_data",
     "data": {
      "image/png": "[encoded data removed]",
      "text/plain": [
       "<Figure size 432x288 with 1 Axes>"
      ]
     },
     "metadata": {
      "needs_background": "light"
     }
    }
   ],
   "metadata": {}
  },
  {
   "cell_type": "markdown",
   "source": [
    "## 이미 학습된 가중치 이용해서 학습\r\n",
    "\r\n",
    "- ImageNet: 1000가지 종류로 나뉜 1백 20만 개가 넘는 사진을 두고 어떤 물체인지를 맞히는 이미지넷 이미지 인식 대회(ILSVRC)에 사용되는 dataset, 200GB에 이름.\r\n",
    "- VGGNet: 연구팀 VGG에 의해 개발된 모델, ILSVRC 2014에서 2위"
   ],
   "metadata": {}
  },
  {
   "cell_type": "code",
   "execution_count": 31,
   "source": [
    "np.random.seed(3)\r\n",
    "tf.random.set_seed(3)"
   ],
   "outputs": [],
   "metadata": {}
  },
  {
   "cell_type": "markdown",
   "source": [
    "### model"
   ],
   "metadata": {}
  },
  {
   "cell_type": "code",
   "execution_count": 32,
   "source": [
    "transfer_model = VGG16(weights=\"imagenet\", input_shape=(150, 150, 3),\r\n",
    "    include_top=False)           # 마지막 layer, 분류기를 가져올 것인가\r\n",
    "transfer_model.trainable = False # 앞선 층은 가중치를 update하지 않을 것임.\r\n",
    "transfer_model.summary()         # Trainable params: 0 확인"
   ],
   "outputs": [
    {
     "output_type": "stream",
     "name": "stdout",
     "text": [
      "Model: \"vgg16\"\n",
      "_________________________________________________________________\n",
      "Layer (type)                 Output Shape              Param #   \n",
      "=================================================================\n",
      "input_2 (InputLayer)         [(None, 150, 150, 3)]     0         \n",
      "_________________________________________________________________\n",
      "block1_conv1 (Conv2D)        (None, 150, 150, 64)      1792      \n",
      "_________________________________________________________________\n",
      "block1_conv2 (Conv2D)        (None, 150, 150, 64)      36928     \n",
      "_________________________________________________________________\n",
      "block1_pool (MaxPooling2D)   (None, 75, 75, 64)        0         \n",
      "_________________________________________________________________\n",
      "block2_conv1 (Conv2D)        (None, 75, 75, 128)       73856     \n",
      "_________________________________________________________________\n",
      "block2_conv2 (Conv2D)        (None, 75, 75, 128)       147584    \n",
      "_________________________________________________________________\n",
      "block2_pool (MaxPooling2D)   (None, 37, 37, 128)       0         \n",
      "_________________________________________________________________\n",
      "block3_conv1 (Conv2D)        (None, 37, 37, 256)       295168    \n",
      "_________________________________________________________________\n",
      "block3_conv2 (Conv2D)        (None, 37, 37, 256)       590080    \n",
      "_________________________________________________________________\n",
      "block3_conv3 (Conv2D)        (None, 37, 37, 256)       590080    \n",
      "_________________________________________________________________\n",
      "block3_pool (MaxPooling2D)   (None, 18, 18, 256)       0         \n",
      "_________________________________________________________________\n",
      "block4_conv1 (Conv2D)        (None, 18, 18, 512)       1180160   \n",
      "_________________________________________________________________\n",
      "block4_conv2 (Conv2D)        (None, 18, 18, 512)       2359808   \n",
      "_________________________________________________________________\n",
      "block4_conv3 (Conv2D)        (None, 18, 18, 512)       2359808   \n",
      "_________________________________________________________________\n",
      "block4_pool (MaxPooling2D)   (None, 9, 9, 512)         0         \n",
      "_________________________________________________________________\n",
      "block5_conv1 (Conv2D)        (None, 9, 9, 512)         2359808   \n",
      "_________________________________________________________________\n",
      "block5_conv2 (Conv2D)        (None, 9, 9, 512)         2359808   \n",
      "_________________________________________________________________\n",
      "block5_conv3 (Conv2D)        (None, 9, 9, 512)         2359808   \n",
      "_________________________________________________________________\n",
      "block5_pool (MaxPooling2D)   (None, 4, 4, 512)         0         \n",
      "=================================================================\n",
      "Total params: 14,714,688\n",
      "Trainable params: 0\n",
      "Non-trainable params: 14,714,688\n",
      "_________________________________________________________________\n"
     ]
    }
   ],
   "metadata": {}
  },
  {
   "cell_type": "code",
   "execution_count": 33,
   "source": [
    "finetune_model = Sequential()\r\n",
    "finetune_model.add(transfer_model)\r\n",
    "finetune_model.add(Flatten())\r\n",
    "finetune_model.add(Dense(64, activation=\"relu\"))\r\n",
    "finetune_model.add(Dense(2, activation=\"softmax\"))"
   ],
   "outputs": [],
   "metadata": {}
  },
  {
   "cell_type": "code",
   "execution_count": 34,
   "source": [
    "finetune_model.summary()"
   ],
   "outputs": [
    {
     "output_type": "stream",
     "name": "stdout",
     "text": [
      "Model: \"sequential_2\"\n",
      "_________________________________________________________________\n",
      "Layer (type)                 Output Shape              Param #   \n",
      "=================================================================\n",
      "vgg16 (Functional)           (None, 4, 4, 512)         14714688  \n",
      "_________________________________________________________________\n",
      "flatten_2 (Flatten)          (None, 8192)              0         \n",
      "_________________________________________________________________\n",
      "dense_4 (Dense)              (None, 64)                524352    \n",
      "_________________________________________________________________\n",
      "dense_5 (Dense)              (None, 2)                 130       \n",
      "=================================================================\n",
      "Total params: 15,239,170\n",
      "Trainable params: 524,482\n",
      "Non-trainable params: 14,714,688\n",
      "_________________________________________________________________\n"
     ]
    }
   ],
   "metadata": {}
  },
  {
   "cell_type": "code",
   "execution_count": 35,
   "source": [
    "finetune_model.compile(\r\n",
    "    loss=\"sparse_categorical_crossentropy\",\r\n",
    "    optimizer=optimizers.Adam(learning_rate=0.0002), metrics=[\"accuracy\"])"
   ],
   "outputs": [],
   "metadata": {}
  },
  {
   "cell_type": "code",
   "execution_count": 36,
   "source": [
    "history = finetune_model.fit_generator(\r\n",
    "    train_generator, validation_data=test_generator, validation_steps=10,\r\n",
    "    epochs=40, steps_per_epoch=30)"
   ],
   "outputs": [
    {
     "output_type": "stream",
     "name": "stdout",
     "text": [
      "Epoch 1/40\n",
      "WARNING:tensorflow:AutoGraph could not transform <function Model.make_train_function.<locals>.train_function at 0x000001DCA60E0168> and will run it as-is.\n",
      "Please report this to the TensorFlow team. When filing the bug, set the verbosity to 10 (on Linux, `export AUTOGRAPH_VERBOSITY=10`) and attach the full output.\n",
      "Cause: 'arguments' object has no attribute 'posonlyargs'\n",
      "To silence this warning, decorate the function with @tf.autograph.experimental.do_not_convert\n",
      "WARNING: AutoGraph could not transform <function Model.make_train_function.<locals>.train_function at 0x000001DCA60E0168> and will run it as-is.\n",
      "Please report this to the TensorFlow team. When filing the bug, set the verbosity to 10 (on Linux, `export AUTOGRAPH_VERBOSITY=10`) and attach the full output.\n",
      "Cause: 'arguments' object has no attribute 'posonlyargs'\n",
      "To silence this warning, decorate the function with @tf.autograph.experimental.do_not_convert\n",
      "30/30 [==============================] - ETA: 0s - loss: 0.6315 - accuracy: 0.6200WARNING:tensorflow:AutoGraph could not transform <function Model.make_test_function.<locals>.test_function at 0x000001DCA61359D8> and will run it as-is.\n",
      "Please report this to the TensorFlow team. When filing the bug, set the verbosity to 10 (on Linux, `export AUTOGRAPH_VERBOSITY=10`) and attach the full output.\n",
      "Cause: 'arguments' object has no attribute 'posonlyargs'\n",
      "To silence this warning, decorate the function with @tf.autograph.experimental.do_not_convert\n",
      "WARNING: AutoGraph could not transform <function Model.make_test_function.<locals>.test_function at 0x000001DCA61359D8> and will run it as-is.\n",
      "Please report this to the TensorFlow team. When filing the bug, set the verbosity to 10 (on Linux, `export AUTOGRAPH_VERBOSITY=10`) and attach the full output.\n",
      "Cause: 'arguments' object has no attribute 'posonlyargs'\n",
      "To silence this warning, decorate the function with @tf.autograph.experimental.do_not_convert\n",
      "30/30 [==============================] - 20s 659ms/step - loss: 0.6315 - accuracy: 0.6200 - val_loss: 0.5804 - val_accuracy: 0.6800\n",
      "Epoch 2/40\n",
      "30/30 [==============================] - 18s 608ms/step - loss: 0.4016 - accuracy: 0.8467 - val_loss: 0.3485 - val_accuracy: 0.8800\n",
      "Epoch 3/40\n",
      "30/30 [==============================] - 18s 594ms/step - loss: 0.3008 - accuracy: 0.9067 - val_loss: 0.2974 - val_accuracy: 0.8600\n",
      "Epoch 4/40\n",
      "30/30 [==============================] - 18s 599ms/step - loss: 0.2585 - accuracy: 0.9267 - val_loss: 0.2456 - val_accuracy: 0.8600\n",
      "Epoch 5/40\n",
      "30/30 [==============================] - 18s 590ms/step - loss: 0.2102 - accuracy: 0.9667 - val_loss: 0.2910 - val_accuracy: 0.8600\n",
      "Epoch 6/40\n",
      "30/30 [==============================] - 18s 606ms/step - loss: 0.1563 - accuracy: 0.9733 - val_loss: 0.2038 - val_accuracy: 0.9200\n",
      "Epoch 7/40\n",
      "30/30 [==============================] - 18s 600ms/step - loss: 0.1641 - accuracy: 0.9600 - val_loss: 0.1979 - val_accuracy: 0.9000\n",
      "Epoch 8/40\n",
      "30/30 [==============================] - 18s 609ms/step - loss: 0.1533 - accuracy: 0.9533 - val_loss: 0.1619 - val_accuracy: 0.9600\n",
      "Epoch 9/40\n",
      "30/30 [==============================] - 18s 602ms/step - loss: 0.1375 - accuracy: 0.9400 - val_loss: 0.1415 - val_accuracy: 0.9600\n",
      "Epoch 10/40\n",
      "30/30 [==============================] - 18s 599ms/step - loss: 0.1258 - accuracy: 0.9733 - val_loss: 0.1749 - val_accuracy: 0.9600\n",
      "Epoch 11/40\n",
      "30/30 [==============================] - 18s 610ms/step - loss: 0.1219 - accuracy: 0.9533 - val_loss: 0.1639 - val_accuracy: 0.9200\n",
      "Epoch 12/40\n",
      "30/30 [==============================] - 18s 599ms/step - loss: 0.1277 - accuracy: 0.9533 - val_loss: 0.2085 - val_accuracy: 0.9200\n",
      "Epoch 13/40\n",
      "30/30 [==============================] - 18s 598ms/step - loss: 0.1120 - accuracy: 0.9667 - val_loss: 0.1319 - val_accuracy: 0.9600\n",
      "Epoch 14/40\n",
      "30/30 [==============================] - 18s 613ms/step - loss: 0.0879 - accuracy: 0.9733 - val_loss: 0.0883 - val_accuracy: 0.9800\n",
      "Epoch 15/40\n",
      "30/30 [==============================] - 19s 626ms/step - loss: 0.0900 - accuracy: 0.9600 - val_loss: 0.1728 - val_accuracy: 0.9200\n",
      "Epoch 16/40\n",
      "30/30 [==============================] - 18s 608ms/step - loss: 0.0725 - accuracy: 1.0000 - val_loss: 0.1120 - val_accuracy: 0.9800\n",
      "Epoch 17/40\n",
      "30/30 [==============================] - 19s 617ms/step - loss: 0.0836 - accuracy: 0.9733 - val_loss: 0.2343 - val_accuracy: 0.9000\n",
      "Epoch 18/40\n",
      "30/30 [==============================] - 19s 623ms/step - loss: 0.0843 - accuracy: 0.9800 - val_loss: 0.2450 - val_accuracy: 0.9000\n",
      "Epoch 19/40\n",
      "30/30 [==============================] - 18s 606ms/step - loss: 0.0764 - accuracy: 0.9733 - val_loss: 0.0649 - val_accuracy: 0.9800\n",
      "Epoch 20/40\n",
      "30/30 [==============================] - 18s 607ms/step - loss: 0.0712 - accuracy: 0.9867 - val_loss: 0.2423 - val_accuracy: 0.9000\n",
      "Epoch 21/40\n",
      "30/30 [==============================] - 18s 615ms/step - loss: 0.0758 - accuracy: 0.9800 - val_loss: 0.1123 - val_accuracy: 0.9600\n",
      "Epoch 22/40\n",
      "30/30 [==============================] - 19s 619ms/step - loss: 0.0872 - accuracy: 0.9733 - val_loss: 0.1136 - val_accuracy: 0.9400\n",
      "Epoch 23/40\n",
      "30/30 [==============================] - 18s 616ms/step - loss: 0.0612 - accuracy: 0.9667 - val_loss: 0.0742 - val_accuracy: 0.9600\n",
      "Epoch 24/40\n",
      "30/30 [==============================] - 18s 610ms/step - loss: 0.0762 - accuracy: 0.9733 - val_loss: 0.0515 - val_accuracy: 0.9800\n",
      "Epoch 25/40\n",
      "30/30 [==============================] - 19s 619ms/step - loss: 0.0628 - accuracy: 0.9867 - val_loss: 0.0636 - val_accuracy: 0.9800\n",
      "Epoch 26/40\n",
      "30/30 [==============================] - 18s 615ms/step - loss: 0.0600 - accuracy: 0.9867 - val_loss: 0.2583 - val_accuracy: 0.9000\n",
      "Epoch 27/40\n",
      "30/30 [==============================] - 19s 617ms/step - loss: 0.0581 - accuracy: 0.9933 - val_loss: 0.0858 - val_accuracy: 0.9600\n",
      "Epoch 28/40\n",
      "30/30 [==============================] - 18s 614ms/step - loss: 0.0468 - accuracy: 0.9867 - val_loss: 0.0722 - val_accuracy: 0.9600\n",
      "Epoch 29/40\n",
      "30/30 [==============================] - 18s 616ms/step - loss: 0.0568 - accuracy: 0.9800 - val_loss: 0.0621 - val_accuracy: 0.9800\n",
      "Epoch 30/40\n",
      "30/30 [==============================] - 18s 615ms/step - loss: 0.0419 - accuracy: 0.9933 - val_loss: 0.1113 - val_accuracy: 0.9600\n",
      "Epoch 31/40\n",
      "30/30 [==============================] - 19s 628ms/step - loss: 0.0625 - accuracy: 0.9667 - val_loss: 0.1031 - val_accuracy: 0.9400\n",
      "Epoch 32/40\n",
      "30/30 [==============================] - 19s 629ms/step - loss: 0.0533 - accuracy: 0.9867 - val_loss: 0.0222 - val_accuracy: 1.0000\n",
      "Epoch 33/40\n",
      "30/30 [==============================] - 19s 618ms/step - loss: 0.0379 - accuracy: 0.9933 - val_loss: 0.0670 - val_accuracy: 0.9800\n",
      "Epoch 34/40\n",
      "30/30 [==============================] - 19s 629ms/step - loss: 0.0404 - accuracy: 0.9867 - val_loss: 0.0544 - val_accuracy: 0.9800\n",
      "Epoch 35/40\n",
      "30/30 [==============================] - 19s 623ms/step - loss: 0.0831 - accuracy: 0.9733 - val_loss: 0.0444 - val_accuracy: 0.9800\n",
      "Epoch 36/40\n",
      "30/30 [==============================] - 19s 620ms/step - loss: 0.0591 - accuracy: 0.9800 - val_loss: 0.0415 - val_accuracy: 0.9800\n",
      "Epoch 37/40\n",
      "30/30 [==============================] - 18s 614ms/step - loss: 0.0437 - accuracy: 0.9867 - val_loss: 0.2587 - val_accuracy: 0.9200\n",
      "Epoch 38/40\n",
      "30/30 [==============================] - 18s 608ms/step - loss: 0.0359 - accuracy: 0.9933 - val_loss: 0.1236 - val_accuracy: 0.9800\n",
      "Epoch 39/40\n",
      "30/30 [==============================] - 18s 609ms/step - loss: 0.0511 - accuracy: 0.9733 - val_loss: 0.1273 - val_accuracy: 0.9400\n",
      "Epoch 40/40\n",
      "30/30 [==============================] - 19s 623ms/step - loss: 0.0352 - accuracy: 0.9933 - val_loss: 0.1362 - val_accuracy: 0.9600\n"
     ]
    }
   ],
   "metadata": {}
  },
  {
   "cell_type": "markdown",
   "source": [
    "### result"
   ],
   "metadata": {}
  },
  {
   "cell_type": "code",
   "execution_count": 37,
   "source": [
    "acc = history.history[\"accuracy\"]\r\n",
    "val_acc = history.history[\"val_accuracy\"]\r\n",
    "y_loss = history.history[\"loss\"]\r\n",
    "y_vloss = history.history[\"val_loss\"]"
   ],
   "outputs": [],
   "metadata": {}
  },
  {
   "cell_type": "code",
   "execution_count": 40,
   "source": [
    "x_len = np.arange(len(y_loss))\r\n",
    "plt.figure(figsize=(10, 8))\r\n",
    "\r\n",
    "plt.plot(x_len, acc, marker=\".\", c=\"red\", label=\"Train accuracy\")\r\n",
    "plt.plot(x_len, val_acc, marker=\".\", c=\"lightcoral\", label=\"Test accuracy\")\r\n",
    "plt.plot(x_len, y_loss, marker=\".\", c=\"blue\", label=\"Train loss\")\r\n",
    "plt.plot(x_len, y_vloss, marker=\".\", c=\"cornflowerblue\", label=\"Test loss\")\r\n",
    "\r\n",
    "plt.grid()\r\n",
    "plt.legend(loc=\"best\")\r\n",
    "plt.xlabel(\"epoch\")\r\n",
    "plt.ylabel(\"loss/acc\")\r\n",
    "plt.show()"
   ],
   "outputs": [
    {
     "output_type": "display_data",
     "data": {
      "image/png": "[encoded data removed]",
      "text/plain": [
       "<Figure size 720x576 with 1 Axes>"
      ]
     },
     "metadata": {
      "needs_background": "light"
     }
    }
   ],
   "metadata": {}
  }
 ],
 "metadata": {
  "orig_nbformat": 4,
  "language_info": {
   "name": "python",
   "version": "3.7.9",
   "mimetype": "text/x-python",
   "codemirror_mode": {
    "name": "ipython",
    "version": 3
   },
   "pygments_lexer": "ipython3",
   "nbconvert_exporter": "python",
   "file_extension": ".py"
  },
  "kernelspec": {
   "name": "python3",
   "display_name": "Python 3.7.9 64-bit ('base': conda)"
  },
  "interpreter": {
   "hash": "97ae724bfa85b9b34df7982b8bb8c7216f435b92902d749e4263f71162bea840"
  }
 },
 "nbformat": 4,
 "nbformat_minor": 2
}