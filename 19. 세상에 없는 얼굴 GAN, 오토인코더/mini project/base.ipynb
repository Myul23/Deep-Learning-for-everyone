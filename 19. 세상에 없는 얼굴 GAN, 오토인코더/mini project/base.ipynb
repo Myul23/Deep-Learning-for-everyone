{
 "metadata": {
  "language_info": {
   "codemirror_mode": {
    "name": "ipython",
    "version": 3
   },
   "file_extension": ".py",
   "mimetype": "text/x-python",
   "name": "python",
   "nbconvert_exporter": "python",
   "pygments_lexer": "ipython3",
   "version": 3
  },
  "orig_nbformat": 2
 },
 "nbformat": 4,
 "nbformat_minor": 2,
 "cells": [
  {
   "source": [
    "- [다음 세대 포켓몬은?](https://www.kaggle.com/kvpratama/pokemon-images-dataset)\n",
    "- [마스크 착용 여부](https://www.kaggle.com/prasoonkottarathil/face-mask-lite-dataset?select=without_mask)\n",
    "    - mask가 만들어낸 거고, 하얀 mask뿐이라 검은색 처리를 하거나 하지 않거나\n",
    "- [Bob Ross's 작품의 영역 분리](https://www.kaggle.com/residentmario/segmented-bob-ross-images?select=labels.csv)\n",
    "    - 기본 GAN으로 할 수 없을 것 같긴 하다.\n",
    "- [가짜 폐암 CT 사진 만들기](https://www.kaggle.com/ymirsky/medical-deepfakes-lung-cancer?select=CT_Scans)\n",
    "    - image가 3-dimension, 3d가 그냥 한 차원 추가면 해볼만 할 것도 같은데"
   ],
   "cell_type": "markdown",
   "metadata": {}
  }
 ]
}